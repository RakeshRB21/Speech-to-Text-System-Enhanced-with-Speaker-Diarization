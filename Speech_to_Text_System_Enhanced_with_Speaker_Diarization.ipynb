{
  "nbformat": 4,
  "nbformat_minor": 0,
  "metadata": {
    "colab": {
      "provenance": []
    },
    "kernelspec": {
      "name": "python3",
      "display_name": "Python 3"
    },
    "language_info": {
      "name": "python"
    }
  },
  "cells": [
    {
      "cell_type": "code",
      "execution_count": 13,
      "metadata": {
        "colab": {
          "base_uri": "https://localhost:8080/"
        },
        "id": "NNgeI9uIFNhM",
        "outputId": "155d748d-9175-4b10-ffc7-2c54610b331f"
      },
      "outputs": [
        {
          "output_type": "stream",
          "name": "stdout",
          "text": [
            "Requirement already satisfied: python_speech_features in /usr/local/lib/python3.10/dist-packages (0.6)\n",
            "Requirement already satisfied: speechrecognition in /usr/local/lib/python3.10/dist-packages (3.11.0)\n",
            "Requirement already satisfied: requests>=2.26.0 in /usr/local/lib/python3.10/dist-packages (from speechrecognition) (2.32.3)\n",
            "Requirement already satisfied: typing-extensions in /usr/local/lib/python3.10/dist-packages (from speechrecognition) (4.12.2)\n",
            "Requirement already satisfied: charset-normalizer<4,>=2 in /usr/local/lib/python3.10/dist-packages (from requests>=2.26.0->speechrecognition) (3.4.0)\n",
            "Requirement already satisfied: idna<4,>=2.5 in /usr/local/lib/python3.10/dist-packages (from requests>=2.26.0->speechrecognition) (3.10)\n",
            "Requirement already satisfied: urllib3<3,>=1.21.1 in /usr/local/lib/python3.10/dist-packages (from requests>=2.26.0->speechrecognition) (2.2.3)\n",
            "Requirement already satisfied: certifi>=2017.4.17 in /usr/local/lib/python3.10/dist-packages (from requests>=2.26.0->speechrecognition) (2024.8.30)\n",
            "Requirement already satisfied: pydub in /usr/local/lib/python3.10/dist-packages (0.25.1)\n",
            "Requirement already satisfied: librosa in /usr/local/lib/python3.10/dist-packages (0.10.2.post1)\n",
            "Requirement already satisfied: soundfile in /usr/local/lib/python3.10/dist-packages (0.12.1)\n",
            "Requirement already satisfied: audioread>=2.1.9 in /usr/local/lib/python3.10/dist-packages (from librosa) (3.0.1)\n",
            "Requirement already satisfied: numpy!=1.22.0,!=1.22.1,!=1.22.2,>=1.20.3 in /usr/local/lib/python3.10/dist-packages (from librosa) (1.26.4)\n",
            "Requirement already satisfied: scipy>=1.2.0 in /usr/local/lib/python3.10/dist-packages (from librosa) (1.13.1)\n",
            "Requirement already satisfied: scikit-learn>=0.20.0 in /usr/local/lib/python3.10/dist-packages (from librosa) (1.5.2)\n",
            "Requirement already satisfied: joblib>=0.14 in /usr/local/lib/python3.10/dist-packages (from librosa) (1.4.2)\n",
            "Requirement already satisfied: decorator>=4.3.0 in /usr/local/lib/python3.10/dist-packages (from librosa) (4.4.2)\n",
            "Requirement already satisfied: numba>=0.51.0 in /usr/local/lib/python3.10/dist-packages (from librosa) (0.60.0)\n",
            "Requirement already satisfied: pooch>=1.1 in /usr/local/lib/python3.10/dist-packages (from librosa) (1.8.2)\n",
            "Requirement already satisfied: soxr>=0.3.2 in /usr/local/lib/python3.10/dist-packages (from librosa) (0.5.0.post1)\n",
            "Requirement already satisfied: typing-extensions>=4.1.1 in /usr/local/lib/python3.10/dist-packages (from librosa) (4.12.2)\n",
            "Requirement already satisfied: lazy-loader>=0.1 in /usr/local/lib/python3.10/dist-packages (from librosa) (0.4)\n",
            "Requirement already satisfied: msgpack>=1.0 in /usr/local/lib/python3.10/dist-packages (from librosa) (1.1.0)\n",
            "Requirement already satisfied: cffi>=1.0 in /usr/local/lib/python3.10/dist-packages (from soundfile) (1.17.1)\n",
            "Requirement already satisfied: pycparser in /usr/local/lib/python3.10/dist-packages (from cffi>=1.0->soundfile) (2.22)\n",
            "Requirement already satisfied: packaging in /usr/local/lib/python3.10/dist-packages (from lazy-loader>=0.1->librosa) (24.1)\n",
            "Requirement already satisfied: llvmlite<0.44,>=0.43.0dev0 in /usr/local/lib/python3.10/dist-packages (from numba>=0.51.0->librosa) (0.43.0)\n",
            "Requirement already satisfied: platformdirs>=2.5.0 in /usr/local/lib/python3.10/dist-packages (from pooch>=1.1->librosa) (4.3.6)\n",
            "Requirement already satisfied: requests>=2.19.0 in /usr/local/lib/python3.10/dist-packages (from pooch>=1.1->librosa) (2.32.3)\n",
            "Requirement already satisfied: threadpoolctl>=3.1.0 in /usr/local/lib/python3.10/dist-packages (from scikit-learn>=0.20.0->librosa) (3.5.0)\n",
            "Requirement already satisfied: charset-normalizer<4,>=2 in /usr/local/lib/python3.10/dist-packages (from requests>=2.19.0->pooch>=1.1->librosa) (3.4.0)\n",
            "Requirement already satisfied: idna<4,>=2.5 in /usr/local/lib/python3.10/dist-packages (from requests>=2.19.0->pooch>=1.1->librosa) (3.10)\n",
            "Requirement already satisfied: urllib3<3,>=1.21.1 in /usr/local/lib/python3.10/dist-packages (from requests>=2.19.0->pooch>=1.1->librosa) (2.2.3)\n",
            "Requirement already satisfied: certifi>=2017.4.17 in /usr/local/lib/python3.10/dist-packages (from requests>=2.19.0->pooch>=1.1->librosa) (2024.8.30)\n",
            "Reading package lists... Done\n",
            "Building dependency tree... Done\n",
            "Reading state information... Done\n",
            "ffmpeg is already the newest version (7:4.4.2-0ubuntu0.22.04.1).\n",
            "0 upgraded, 0 newly installed, 0 to remove and 49 not upgraded.\n"
          ]
        }
      ],
      "source": [
        "!pip install python_speech_features speechrecognition\n",
        "!pip install pydub librosa soundfile\n",
        "!apt-get install ffmpeg"
      ]
    },
    {
      "cell_type": "code",
      "source": [
        "from pydub import AudioSegment\n",
        "import numpy as np\n",
        "import scipy.io.wavfile as wav\n",
        "from sklearn.cluster import KMeans\n",
        "import matplotlib.pyplot as plt\n",
        "import librosa\n",
        "import librosa.display\n",
        "import python_speech_features as psf\n",
        "import speech_recognition as sr\n",
        "import soundfile as sf  # Import soundfile to write audio\n",
        "\n",
        "# Convert GSM format to PCM .wav using Pydub\n",
        "audio = AudioSegment.from_file('/content/hard.wav', format=\"wav\")\n",
        "audio.export('/content/converted_audio.wav', format=\"wav\")\n",
        "\n",
        "# Load the converted .wav file using Librosa for noise reduction\n",
        "audio_data, rate = librosa.load('/content/converted_audio.wav', sr=None)\n",
        "\n",
        "# Function to apply noise reduction using librosa\n",
        "def reduce_noise(audio_data, rate):\n",
        "    # Apply noise reduction (you can tune the parameters if needed)\n",
        "    audio_data = librosa.effects.preemphasis(audio_data)\n",
        "    return audio_data\n",
        "\n",
        "# Apply noise reduction\n",
        "audio_data = reduce_noise(audio_data, rate)\n",
        "\n",
        "# Export the cleaned audio to file for transcription using soundfile\n",
        "sf.write('/content/cleaned_audio.wav', audio_data, rate)\n",
        "\n",
        "# Function to extract MFCC features\n",
        "# Function to extract MFCC features\n",
        "def extract_mfcc(audio_data, rate, n_mfcc=13):\n",
        "    mfcc_features = psf.mfcc(audio_data, rate, numcep=n_mfcc, nfft=1024)\n",
        "    return np.mean(mfcc_features, axis=0)\n",
        "\n",
        "\n",
        "# Function to segment and cluster speakers\n",
        "def segment_and_cluster(audio_data, rate, n_segments=5, n_clusters=2):\n",
        "    segment_size = len(audio_data) // n_segments\n",
        "    mfcc_features = []\n",
        "\n",
        "    for i in range(0, len(audio_data), segment_size):\n",
        "        segment = audio_data[i:i + segment_size]\n",
        "        mfcc = extract_mfcc(segment, rate)\n",
        "        mfcc_features.append(mfcc)\n",
        "\n",
        "    mfcc_features = np.array(mfcc_features)\n",
        "\n",
        "    # Perform K-means clustering to differentiate speakers\n",
        "    kmeans = KMeans(n_clusters=n_clusters, random_state=0).fit(mfcc_features)\n",
        "    return kmeans.labels_, mfcc_features\n",
        "\n",
        "# Perform segmentation and clustering\n",
        "labels, features = segment_and_cluster(audio_data, rate)\n",
        "\n",
        "# Count the number of unique speakers\n",
        "num_speakers = len(np.unique(labels))\n",
        "\n",
        "# Visualize speaker intervals\n",
        "def visualize_speaker_intervals(labels):\n",
        "    time_intervals = np.arange(len(labels))\n",
        "    plt.scatter(time_intervals, labels, c=labels, cmap='rainbow')\n",
        "    plt.title(f\"Speaker Diarization - Number of Speakers: {num_speakers}\")\n",
        "    plt.xlabel(\"Time Segments\")\n",
        "    plt.ylabel(\"Speakers\")\n",
        "    plt.show()\n",
        "\n",
        "# Visualize speaker intervals\n",
        "visualize_speaker_intervals(labels)\n",
        "\n"
      ],
      "metadata": {
        "colab": {
          "base_uri": "https://localhost:8080/",
          "height": 472
        },
        "id": "VtYsk2X6IbeO",
        "outputId": "aadbfa95-6e3b-4386-8cee-f89c2f8c9bf7"
      },
      "execution_count": 1,
      "outputs": [
        {
          "output_type": "display_data",
          "data": {
            "text/plain": [
              "<Figure size 640x480 with 1 Axes>"
            ],
            "image/png": "[encoded data removed]"
          },
          "metadata": {}
        }
      ]
    },
    {
      "cell_type": "markdown",
      "source": [
        "###Google Speech Recognition"
      ],
      "metadata": {
        "id": "hHXuCKKgMeQU"
      }
    },
    {
      "cell_type": "code",
      "source": [
        "# Use Google Speech Recognition for transcription of each segment\n",
        "recognizer = sr.Recognizer()\n",
        "\n",
        "def speech_to_text(audio_file, start, end):\n",
        "    with sr.AudioFile(audio_file) as source:\n",
        "        audio_data = recognizer.record(source, duration=(end - start), offset=start)\n",
        "        text = recognizer.recognize_google(audio_data)\n",
        "        return text\n",
        "\n",
        "# Transcribe each segment after noise reduction\n",
        "segment_size = len(audio_data) // len(labels)\n",
        "transcriptions = []\n",
        "for i, label in enumerate(labels):\n",
        "    start = i * segment_size\n",
        "    end = (i + 1) * segment_size\n",
        "    try:\n",
        "        text = speech_to_text('/content/cleaned_audio.wav', start / rate, end / rate)\n",
        "        transcriptions.append(f\"Speaker {label}: {text}\")\n",
        "    except Exception as e:\n",
        "        transcriptions.append(f\"Speaker {label}: [Unrecognized speech]\")\n",
        "\n",
        "# Output number of speakers and transcriptions\n",
        "print(f\"Number of Speakers: {num_speakers}\")\n",
        "for transcription in transcriptions:\n",
        "    print(transcription)\n"
      ],
      "metadata": {
        "colab": {
          "base_uri": "https://localhost:8080/"
        },
        "id": "P6-fT7nKJN8v",
        "outputId": "21121da3-905c-4e7b-bf2a-8fd1a0dd9770"
      },
      "execution_count": 17,
      "outputs": [
        {
          "output_type": "stream",
          "name": "stdout",
          "text": [
            "Number of Speakers: 2\n",
            "Speaker 0: you have been hanging out in the wrong clubs Mr\n",
            "Speaker 0: [Unrecognized speech]\n",
            "Speaker 0: [Unrecognized speech]\n",
            "Speaker 0: catalyst\n",
            "Speaker 0: [Unrecognized speech]\n",
            "Speaker 1: I just wanted you to know how hard it was\n"
          ]
        }
      ]
    },
    {
      "cell_type": "markdown",
      "source": [
        "###Open AI Whisperer"
      ],
      "metadata": {
        "id": "dqyZrPqjMiLi"
      }
    },
    {
      "cell_type": "code",
      "source": [
        "!pip uninstall whisper -y  # Uninstall any other 'whisper' package\n",
        "!pip install openai-whisper  # Install OpenAI Whisper\n",
        "!pip install torch  # PyTorch is required for Whisper\n"
      ],
      "metadata": {
        "colab": {
          "base_uri": "https://localhost:8080/",
          "height": 1000
        },
        "id": "v9tM-IilJ1rY",
        "outputId": "0bbb3c23-0e9f-44fb-b4fc-4ce2f7c29dcc"
      },
      "execution_count": 20,
      "outputs": [
        {
          "output_type": "stream",
          "name": "stdout",
          "text": [
            "Found existing installation: whisper 1.1.10\n",
            "Uninstalling whisper-1.1.10:\n",
            "  Successfully uninstalled whisper-1.1.10\n",
            "Collecting openai-whisper\n",
            "  Downloading openai-whisper-20240930.tar.gz (800 kB)\n",
            "\u001b[2K     \u001b[90m━━━━━━━━━━━━━━━━━━━━━━━━━━━━━━━━━━━━━━━━\u001b[0m \u001b[32m800.5/800.5 kB\u001b[0m \u001b[31m15.0 MB/s\u001b[0m eta \u001b[36m0:00:00\u001b[0m\n",
            "\u001b[?25h  Installing build dependencies ... \u001b[?25l\u001b[?25hdone\n",
            "  Getting requirements to build wheel ... \u001b[?25l\u001b[?25hdone\n",
            "  Preparing metadata (pyproject.toml) ... \u001b[?25l\u001b[?25hdone\n",
            "Requirement already satisfied: numba in /usr/local/lib/python3.10/dist-packages (from openai-whisper) (0.60.0)\n",
            "Requirement already satisfied: numpy in /usr/local/lib/python3.10/dist-packages (from openai-whisper) (1.26.4)\n",
            "Requirement already satisfied: torch in /usr/local/lib/python3.10/dist-packages (from openai-whisper) (2.4.1+cu121)\n",
            "Requirement already satisfied: tqdm in /usr/local/lib/python3.10/dist-packages (from openai-whisper) (4.66.5)\n",
            "Requirement already satisfied: more-itertools in /usr/local/lib/python3.10/dist-packages (from openai-whisper) (10.5.0)\n",
            "Collecting tiktoken (from openai-whisper)\n",
            "  Downloading tiktoken-0.8.0-cp310-cp310-manylinux_2_17_x86_64.manylinux2014_x86_64.whl.metadata (6.6 kB)\n",
            "Collecting triton>=2.0.0 (from openai-whisper)\n",
            "  Downloading triton-3.1.0-cp310-cp310-manylinux_2_17_x86_64.manylinux2014_x86_64.whl.metadata (1.3 kB)\n",
            "Requirement already satisfied: filelock in /usr/local/lib/python3.10/dist-packages (from triton>=2.0.0->openai-whisper) (3.16.1)\n",
            "Requirement already satisfied: llvmlite<0.44,>=0.43.0dev0 in /usr/local/lib/python3.10/dist-packages (from numba->openai-whisper) (0.43.0)\n",
            "Requirement already satisfied: regex>=2022.1.18 in /usr/local/lib/python3.10/dist-packages (from tiktoken->openai-whisper) (2024.9.11)\n",
            "Requirement already satisfied: requests>=2.26.0 in /usr/local/lib/python3.10/dist-packages (from tiktoken->openai-whisper) (2.32.3)\n",
            "Requirement already satisfied: typing-extensions>=4.8.0 in /usr/local/lib/python3.10/dist-packages (from torch->openai-whisper) (4.12.2)\n",
            "Requirement already satisfied: sympy in /usr/local/lib/python3.10/dist-packages (from torch->openai-whisper) (1.13.3)\n",
            "Requirement already satisfied: networkx in /usr/local/lib/python3.10/dist-packages (from torch->openai-whisper) (3.4.1)\n",
            "Requirement already satisfied: jinja2 in /usr/local/lib/python3.10/dist-packages (from torch->openai-whisper) (3.1.4)\n",
            "Requirement already satisfied: fsspec in /usr/local/lib/python3.10/dist-packages (from torch->openai-whisper) (2024.6.1)\n",
            "Requirement already satisfied: charset-normalizer<4,>=2 in /usr/local/lib/python3.10/dist-packages (from requests>=2.26.0->tiktoken->openai-whisper) (3.4.0)\n",
            "Requirement already satisfied: idna<4,>=2.5 in /usr/local/lib/python3.10/dist-packages (from requests>=2.26.0->tiktoken->openai-whisper) (3.10)\n",
            "Requirement already satisfied: urllib3<3,>=1.21.1 in /usr/local/lib/python3.10/dist-packages (from requests>=2.26.0->tiktoken->openai-whisper) (2.2.3)\n",
            "Requirement already satisfied: certifi>=2017.4.17 in /usr/local/lib/python3.10/dist-packages (from requests>=2.26.0->tiktoken->openai-whisper) (2024.8.30)\n",
            "Requirement already satisfied: MarkupSafe>=2.0 in /usr/local/lib/python3.10/dist-packages (from jinja2->torch->openai-whisper) (3.0.2)\n",
            "Requirement already satisfied: mpmath<1.4,>=1.1.0 in /usr/local/lib/python3.10/dist-packages (from sympy->torch->openai-whisper) (1.3.0)\n",
            "Downloading triton-3.1.0-cp310-cp310-manylinux_2_17_x86_64.manylinux2014_x86_64.whl (209.5 MB)\n",
            "\u001b[2K   \u001b[90m━━━━━━━━━━━━━━━━━━━━━━━━━━━━━━━━━━━━━━━━\u001b[0m \u001b[32m209.5/209.5 MB\u001b[0m \u001b[31m4.0 MB/s\u001b[0m eta \u001b[36m0:00:00\u001b[0m\n",
            "\u001b[?25hDownloading tiktoken-0.8.0-cp310-cp310-manylinux_2_17_x86_64.manylinux2014_x86_64.whl (1.2 MB)\n",
            "\u001b[2K   \u001b[90m━━━━━━━━━━━━━━━━━━━━━━━━━━━━━━━━━━━━━━━━\u001b[0m \u001b[32m1.2/1.2 MB\u001b[0m \u001b[31m50.3 MB/s\u001b[0m eta \u001b[36m0:00:00\u001b[0m\n",
            "\u001b[?25hBuilding wheels for collected packages: openai-whisper\n",
            "  Building wheel for openai-whisper (pyproject.toml) ... \u001b[?25l\u001b[?25hdone\n",
            "  Created wheel for openai-whisper: filename=openai_whisper-20240930-py3-none-any.whl size=803321 sha256=e3fe31b57101082f19739fb05df2e6693144f5d1e4693a1117542ea13156e910\n",
            "  Stored in directory: /root/.cache/pip/wheels/dd/4a/1f/d1c4bf3b9133c8168fe617ed979cab7b14fe381d059ffb9d83\n",
            "Successfully built openai-whisper\n",
            "Installing collected packages: triton, tiktoken, openai-whisper\n",
            "Successfully installed openai-whisper-20240930 tiktoken-0.8.0 triton-3.1.0\n"
          ]
        },
        {
          "output_type": "display_data",
          "data": {
            "application/vnd.colab-display-data+json": {
              "pip_warning": {
                "packages": [
                  "whisper"
                ]
              },
              "id": "331869461b6d401b8fd33a023d134f34"
            }
          },
          "metadata": {}
        },
        {
          "output_type": "stream",
          "name": "stdout",
          "text": [
            "Requirement already satisfied: torch in /usr/local/lib/python3.10/dist-packages (2.4.1+cu121)\n",
            "Requirement already satisfied: filelock in /usr/local/lib/python3.10/dist-packages (from torch) (3.16.1)\n",
            "Requirement already satisfied: typing-extensions>=4.8.0 in /usr/local/lib/python3.10/dist-packages (from torch) (4.12.2)\n",
            "Requirement already satisfied: sympy in /usr/local/lib/python3.10/dist-packages (from torch) (1.13.3)\n",
            "Requirement already satisfied: networkx in /usr/local/lib/python3.10/dist-packages (from torch) (3.4.1)\n",
            "Requirement already satisfied: jinja2 in /usr/local/lib/python3.10/dist-packages (from torch) (3.1.4)\n",
            "Requirement already satisfied: fsspec in /usr/local/lib/python3.10/dist-packages (from torch) (2024.6.1)\n",
            "Requirement already satisfied: MarkupSafe>=2.0 in /usr/local/lib/python3.10/dist-packages (from jinja2->torch) (3.0.2)\n",
            "Requirement already satisfied: mpmath<1.4,>=1.1.0 in /usr/local/lib/python3.10/dist-packages (from sympy->torch) (1.3.0)\n"
          ]
        }
      ]
    },
    {
      "cell_type": "code",
      "source": [
        "import whisper\n",
        "\n",
        "# Load Whisper model\n",
        "model = whisper.load_model(\"base\")\n",
        "\n",
        "# Transcribe the audio using Whisper\n",
        "def whisper_transcribe(audio_file):\n",
        "    result = model.transcribe(audio_file)\n",
        "    return result['text']\n",
        "\n",
        "# Example of transcribing an audio segment\n",
        "transcription = whisper_transcribe(\"/content/cleaned_audio.wav\")\n",
        "print(transcription)\n"
      ],
      "metadata": {
        "colab": {
          "base_uri": "https://localhost:8080/"
        },
        "id": "etriS-v-J5B6",
        "outputId": "71dd6358-a1d1-4ead-8f45-6bc72f93f963"
      },
      "execution_count": 2,
      "outputs": [
        {
          "output_type": "stream",
          "name": "stderr",
          "text": [
            "100%|████████████████████████████████████████| 139M/139M [00:00<00:00, 156MiB/s]\n",
            "/usr/local/lib/python3.10/dist-packages/whisper/__init__.py:150: FutureWarning: You are using `torch.load` with `weights_only=False` (the current default value), which uses the default pickle module implicitly. It is possible to construct malicious pickle data which will execute arbitrary code during unpickling (See https://github.com/pytorch/pytorch/blob/main/SECURITY.md#untrusted-models for more details). In a future release, the default value for `weights_only` will be flipped to `True`. This limits the functions that could be executed during unpickling. Arbitrary objects will no longer be allowed to be loaded via this mode unless they are explicitly allowlisted by the user via `torch.serialization.add_safe_globals`. We recommend you start setting `weights_only=True` for any use case where you don't have full control of the loaded file. Please open an issue on GitHub for any issues related to this experimental feature.\n",
            "  checkpoint = torch.load(fp, map_location=device)\n",
            "/usr/local/lib/python3.10/dist-packages/whisper/transcribe.py:126: UserWarning: FP16 is not supported on CPU; using FP32 instead\n",
            "  warnings.warn(\"FP16 is not supported on CPU; using FP32 instead\")\n"
          ]
        },
        {
          "output_type": "stream",
          "name": "stdout",
          "text": [
            " You have been hanging out in the wrong clubs, Mr. Wayne. I called Mr. Fox when your condition worsened after the first day. I analyzed your blood, isolating the receptor compounds in the protein-based catalyst. I'm in a misunderstanding, either. Not at all. I just wanted you to know how hard it was.\n"
          ]
        }
      ]
    },
    {
      "cell_type": "code",
      "source": [
        "import warnings\n",
        "warnings.filterwarnings(\"ignore\", message=\"FP16 is not supported on CPU; using FP32 instead\")\n",
        "\n",
        "from pydub import AudioSegment\n",
        "import numpy as np\n",
        "import scipy.io.wavfile as wav\n",
        "from sklearn.cluster import KMeans\n",
        "import matplotlib.pyplot as plt\n",
        "import librosa\n",
        "import librosa.display\n",
        "import python_speech_features as psf\n",
        "import soundfile as sf  # For saving audio\n",
        "import whisper\n",
        "\n",
        "# Convert GSM format to PCM .wav using Pydub\n",
        "audio = AudioSegment.from_file('/content/hard.wav', format=\"wav\")\n",
        "audio.export('/content/converted_audio.wav', format=\"wav\")\n",
        "\n",
        "# Load the converted .wav file using Librosa for noise reduction\n",
        "audio_data, rate = librosa.load('/content/converted_audio.wav', sr=None)\n",
        "\n",
        "# Function to apply noise reduction using librosa\n",
        "def reduce_noise(audio_data, rate):\n",
        "    # Apply noise reduction (pre-emphasis)\n",
        "    audio_data = librosa.effects.preemphasis(audio_data)\n",
        "    return audio_data\n",
        "\n",
        "# Apply noise reduction\n",
        "audio_data = reduce_noise(audio_data, rate)\n",
        "\n",
        "# Export the cleaned audio to file for transcription using soundfile\n",
        "sf.write('/content/cleaned_audio.wav', audio_data, rate)\n",
        "\n",
        "# Load Whisper model\n",
        "model = whisper.load_model(\"base\")\n",
        "\n",
        "# Function to extract MFCC features\n",
        "def extract_mfcc(audio_data, rate, n_mfcc=13):\n",
        "    mfcc_features = psf.mfcc(audio_data, rate, numcep=n_mfcc, nfft=1024)\n",
        "    return np.mean(mfcc_features, axis=0)\n",
        "\n",
        "# Function to segment and cluster speakers\n",
        "def segment_and_cluster(audio_data, rate, n_segments=5, n_clusters=2):\n",
        "    segment_size = len(audio_data) // n_segments\n",
        "    mfcc_features = []\n",
        "\n",
        "    for i in range(0, len(audio_data), segment_size):\n",
        "        segment = audio_data[i:i + segment_size]\n",
        "        mfcc = extract_mfcc(segment, rate)\n",
        "        mfcc_features.append(mfcc)\n",
        "\n",
        "    mfcc_features = np.array(mfcc_features)\n",
        "\n",
        "    # Perform K-means clustering to differentiate speakers\n",
        "    kmeans = KMeans(n_clusters=n_clusters, random_state=0).fit(mfcc_features)\n",
        "    return kmeans.labels_\n",
        "\n",
        "# Function to transcribe using Whisper on specific segments\n",
        "def whisper_transcribe_segment(audio_segment):\n",
        "    # Save the specific segment for Whisper to transcribe\n",
        "    sf.write('/content/temp_segment.wav', audio_segment, rate)\n",
        "    result = model.transcribe('/content/temp_segment.wav')\n",
        "    return result['text']\n",
        "\n",
        "# Perform speaker diarization\n",
        "labels = segment_and_cluster(audio_data, rate)\n",
        "\n",
        "# Count the number of unique speakers\n",
        "num_speakers = len(np.unique(labels))\n",
        "\n",
        "# Visualize speaker intervals\n",
        "def visualize_speaker_intervals(labels):\n",
        "    time_intervals = np.arange(len(labels))\n",
        "    plt.scatter(time_intervals, labels, c=labels, cmap='rainbow')\n",
        "    plt.title(f\"Speaker Diarization - Number of Speakers: {num_speakers}\")\n",
        "    plt.xlabel(\"Time Segments\")\n",
        "    plt.ylabel(\"Speakers\")\n",
        "    plt.show()\n",
        "\n",
        "# Visualize speaker intervals\n",
        "visualize_speaker_intervals(labels)\n",
        "\n",
        "# Transcribe and assign speakers using actual audio segments\n",
        "segment_size = len(audio_data) // len(labels)\n",
        "transcriptions = []\n",
        "for i, label in enumerate(labels):\n",
        "    start = i * segment_size / rate\n",
        "    end = (i + 1) * segment_size / rate\n",
        "\n",
        "    # Extract the corresponding audio segment\n",
        "    audio_segment = audio_data[int(start * rate):int(end * rate)]\n",
        "\n",
        "    try:\n",
        "        # Transcribe the actual audio segment\n",
        "        transcription = whisper_transcribe_segment(audio_segment)\n",
        "        transcriptions.append(f\"Speaker {label + 1}: {transcription}\")\n",
        "    except Exception as e:\n",
        "        transcriptions.append(f\"Speaker {label + 1}: [Unrecognized speech]\")\n",
        "\n",
        "# Output labeled transcription\n",
        "for transcription in transcriptions:\n",
        "    print(transcription)\n"
      ],
      "metadata": {
        "colab": {
          "base_uri": "https://localhost:8080/",
          "height": 637
        },
        "id": "p-rLNhV5Kxwo",
        "outputId": "57f9e54d-86ca-4bb3-c4d6-64d37214e2f2"
      },
      "execution_count": 5,
      "outputs": [
        {
          "output_type": "stream",
          "name": "stderr",
          "text": [
            "/usr/local/lib/python3.10/dist-packages/whisper/__init__.py:150: FutureWarning: You are using `torch.load` with `weights_only=False` (the current default value), which uses the default pickle module implicitly. It is possible to construct malicious pickle data which will execute arbitrary code during unpickling (See https://github.com/pytorch/pytorch/blob/main/SECURITY.md#untrusted-models for more details). In a future release, the default value for `weights_only` will be flipped to `True`. This limits the functions that could be executed during unpickling. Arbitrary objects will no longer be allowed to be loaded via this mode unless they are explicitly allowlisted by the user via `torch.serialization.add_safe_globals`. We recommend you start setting `weights_only=True` for any use case where you don't have full control of the loaded file. Please open an issue on GitHub for any issues related to this experimental feature.\n",
            "  checkpoint = torch.load(fp, map_location=device)\n"
          ]
        },
        {
          "output_type": "display_data",
          "data": {
            "text/plain": [
              "<Figure size 640x480 with 1 Axes>"
            ],
            "image/png": "[encoded data removed]"
          },
          "metadata": {}
        },
        {
          "output_type": "stream",
          "name": "stdout",
          "text": [
            "Speaker 1:  You have been hanging out in the wrong clubs, Mr. Wayne.\n",
            "Speaker 1:  I call Mr. Fox when your condition worsened after the first.\n",
            "Speaker 1:  I analyzed your blood isolating the receptor.\n",
            "Speaker 1:  to compounds in the protein-based catalyst.\n",
            "Speaker 1:  I'm gonna understand any of that. Not for...\n",
            "Speaker 2:  I just wanted you to know how hard it was.\n"
          ]
        }
      ]
    },
    {
      "cell_type": "code",
      "source": [],
      "metadata": {
        "id": "Fa5Jz03ULNyZ"
      },
      "execution_count": null,
      "outputs": []
    }
  ]
}